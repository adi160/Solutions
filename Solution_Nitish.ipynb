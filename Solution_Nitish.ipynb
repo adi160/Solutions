{
  "nbformat": 4,
  "nbformat_minor": 0,
  "metadata": {
    "colab": {
      "name": "Solution_Nitish.ipynb",
      "provenance": [],
      "collapsed_sections": []
    },
    "kernelspec": {
      "name": "python3",
      "display_name": "Python 3"
    }
  },
  "cells": [
    {
      "cell_type": "markdown",
      "metadata": {
        "id": "qcXu7zE7Q4WH",
        "colab_type": "text"
      },
      "source": [
        "#### For Q1 we need to find the score for each column to rank them. First i calculated Covariance Matrix which will decide the dependency of columns to each other then i calculated eigen value which will decide the impact of that feature i.e, higher the eigen value higher will be the importance of feature towards clustering  .For Dimensionality Reduction Principal Component Analysis would be another point of consideration<br>\n",
        "Remark : Please let me know if I am proceeding toward wrong direction, My approach is based on my version of understanding of the problem statement where there might be some discrepancy"
      ]
    },
    {
      "cell_type": "code",
      "metadata": {
        "id": "agWpHiyhznsB",
        "colab_type": "code",
        "colab": {}
      },
      "source": [
        "import numpy as np\n",
        "import pandas as pd\n",
        "from sklearn.decomposition import PCA\n",
        "from sklearn.preprocessing import StandardScaler\n",
        "from sklearn.cluster import KMeans"
      ],
      "execution_count": 0,
      "outputs": []
    },
    {
      "cell_type": "code",
      "metadata": {
        "id": "Oxf5WaSIJPYk",
        "colab_type": "code",
        "colab": {}
      },
      "source": [
        "def score_col(data):\n",
        "  X = data.values\n",
        "  X_std = StandardScaler().fit_transform(X)\n",
        "  cov_mat = np.cov(X_std.T)\n",
        "  eig_vals, eig_vecs = np.linalg.eig(cov_mat)\n",
        "  eig_col_pairs = [(np.abs(eig_vals[i]), data.columns[i]) for i in range(len(eig_vals))]\n",
        "  eig_col_pairs.sort()\n",
        "  eig_col_pairs.reverse()\n",
        "  column_score={}\n",
        "  for i in eig_col_pairs:\n",
        "    column_score[i[1]]=i[0]\n",
        "  return column_score\n"
      ],
      "execution_count": 0,
      "outputs": []
    },
    {
      "cell_type": "code",
      "metadata": {
        "id": "dMAN23ZWKYED",
        "colab_type": "code",
        "colab": {}
      },
      "source": [
        "def cluster_result(N,P,S,K):\n",
        "  # data= dataframe\n",
        "  # N=no. of rows \n",
        "  # P= No. of columns\n",
        "  # S= First S no. of small subset of colums which will be used for clustering\n",
        "  # K= No. of clusters to be formed\n",
        "  data = pd.DataFrame(np.random.randint(0,100,size=(N, P)))\n",
        "  array = data.values\n",
        "  X=array[:,:S]\n",
        "  Kmean = KMeans(n_clusters=K)\n",
        "  Kmean.fit(X)\n",
        "  data[\"cluster_number\"]=Kmean.labels_\n",
        "  return data"
      ],
      "execution_count": 0,
      "outputs": []
    },
    {
      "cell_type": "code",
      "metadata": {
        "id": "Crq6ZpsYQC1M",
        "colab_type": "code",
        "colab": {}
      },
      "source": [
        "data=cluster_result(1000,10,5,3)"
      ],
      "execution_count": 0,
      "outputs": []
    },
    {
      "cell_type": "code",
      "metadata": {
        "id": "0sA4WLcxKVlE",
        "colab_type": "code",
        "colab": {}
      },
      "source": [
        "score_dict=score_col(data.iloc[:,:-1])"
      ],
      "execution_count": 0,
      "outputs": []
    },
    {
      "cell_type": "code",
      "metadata": {
        "id": "1kCIecj6iOMT",
        "colab_type": "code",
        "colab": {
          "base_uri": "https://localhost:8080/",
          "height": 406
        },
        "outputId": "ecd015df-61a4-48e4-b69a-a4e6bcb44282"
      },
      "source": [
        "data"
      ],
      "execution_count": 145,
      "outputs": [
        {
          "output_type": "execute_result",
          "data": {
            "text/html": [
              "<div>\n",
              "<style scoped>\n",
              "    .dataframe tbody tr th:only-of-type {\n",
              "        vertical-align: middle;\n",
              "    }\n",
              "\n",
              "    .dataframe tbody tr th {\n",
              "        vertical-align: top;\n",
              "    }\n",
              "\n",
              "    .dataframe thead th {\n",
              "        text-align: right;\n",
              "    }\n",
              "</style>\n",
              "<table border=\"1\" class=\"dataframe\">\n",
              "  <thead>\n",
              "    <tr style=\"text-align: right;\">\n",
              "      <th></th>\n",
              "      <th>0</th>\n",
              "      <th>1</th>\n",
              "      <th>2</th>\n",
              "      <th>3</th>\n",
              "      <th>4</th>\n",
              "      <th>5</th>\n",
              "      <th>6</th>\n",
              "      <th>7</th>\n",
              "      <th>8</th>\n",
              "      <th>9</th>\n",
              "      <th>cluster_number</th>\n",
              "    </tr>\n",
              "  </thead>\n",
              "  <tbody>\n",
              "    <tr>\n",
              "      <th>0</th>\n",
              "      <td>83</td>\n",
              "      <td>91</td>\n",
              "      <td>47</td>\n",
              "      <td>30</td>\n",
              "      <td>17</td>\n",
              "      <td>8</td>\n",
              "      <td>2</td>\n",
              "      <td>14</td>\n",
              "      <td>72</td>\n",
              "      <td>92</td>\n",
              "      <td>2</td>\n",
              "    </tr>\n",
              "    <tr>\n",
              "      <th>1</th>\n",
              "      <td>6</td>\n",
              "      <td>72</td>\n",
              "      <td>67</td>\n",
              "      <td>55</td>\n",
              "      <td>57</td>\n",
              "      <td>50</td>\n",
              "      <td>26</td>\n",
              "      <td>26</td>\n",
              "      <td>59</td>\n",
              "      <td>33</td>\n",
              "      <td>0</td>\n",
              "    </tr>\n",
              "    <tr>\n",
              "      <th>2</th>\n",
              "      <td>64</td>\n",
              "      <td>71</td>\n",
              "      <td>5</td>\n",
              "      <td>41</td>\n",
              "      <td>71</td>\n",
              "      <td>98</td>\n",
              "      <td>54</td>\n",
              "      <td>15</td>\n",
              "      <td>48</td>\n",
              "      <td>77</td>\n",
              "      <td>1</td>\n",
              "    </tr>\n",
              "    <tr>\n",
              "      <th>3</th>\n",
              "      <td>99</td>\n",
              "      <td>37</td>\n",
              "      <td>56</td>\n",
              "      <td>84</td>\n",
              "      <td>61</td>\n",
              "      <td>7</td>\n",
              "      <td>44</td>\n",
              "      <td>71</td>\n",
              "      <td>93</td>\n",
              "      <td>63</td>\n",
              "      <td>1</td>\n",
              "    </tr>\n",
              "    <tr>\n",
              "      <th>4</th>\n",
              "      <td>5</td>\n",
              "      <td>6</td>\n",
              "      <td>24</td>\n",
              "      <td>40</td>\n",
              "      <td>56</td>\n",
              "      <td>99</td>\n",
              "      <td>31</td>\n",
              "      <td>48</td>\n",
              "      <td>31</td>\n",
              "      <td>71</td>\n",
              "      <td>1</td>\n",
              "    </tr>\n",
              "    <tr>\n",
              "      <th>...</th>\n",
              "      <td>...</td>\n",
              "      <td>...</td>\n",
              "      <td>...</td>\n",
              "      <td>...</td>\n",
              "      <td>...</td>\n",
              "      <td>...</td>\n",
              "      <td>...</td>\n",
              "      <td>...</td>\n",
              "      <td>...</td>\n",
              "      <td>...</td>\n",
              "      <td>...</td>\n",
              "    </tr>\n",
              "    <tr>\n",
              "      <th>995</th>\n",
              "      <td>25</td>\n",
              "      <td>28</td>\n",
              "      <td>8</td>\n",
              "      <td>40</td>\n",
              "      <td>9</td>\n",
              "      <td>25</td>\n",
              "      <td>22</td>\n",
              "      <td>86</td>\n",
              "      <td>54</td>\n",
              "      <td>12</td>\n",
              "      <td>2</td>\n",
              "    </tr>\n",
              "    <tr>\n",
              "      <th>996</th>\n",
              "      <td>1</td>\n",
              "      <td>26</td>\n",
              "      <td>26</td>\n",
              "      <td>76</td>\n",
              "      <td>89</td>\n",
              "      <td>64</td>\n",
              "      <td>31</td>\n",
              "      <td>55</td>\n",
              "      <td>79</td>\n",
              "      <td>61</td>\n",
              "      <td>1</td>\n",
              "    </tr>\n",
              "    <tr>\n",
              "      <th>997</th>\n",
              "      <td>5</td>\n",
              "      <td>17</td>\n",
              "      <td>10</td>\n",
              "      <td>56</td>\n",
              "      <td>87</td>\n",
              "      <td>98</td>\n",
              "      <td>37</td>\n",
              "      <td>51</td>\n",
              "      <td>92</td>\n",
              "      <td>90</td>\n",
              "      <td>1</td>\n",
              "    </tr>\n",
              "    <tr>\n",
              "      <th>998</th>\n",
              "      <td>73</td>\n",
              "      <td>43</td>\n",
              "      <td>71</td>\n",
              "      <td>20</td>\n",
              "      <td>31</td>\n",
              "      <td>10</td>\n",
              "      <td>25</td>\n",
              "      <td>51</td>\n",
              "      <td>17</td>\n",
              "      <td>27</td>\n",
              "      <td>2</td>\n",
              "    </tr>\n",
              "    <tr>\n",
              "      <th>999</th>\n",
              "      <td>85</td>\n",
              "      <td>59</td>\n",
              "      <td>1</td>\n",
              "      <td>65</td>\n",
              "      <td>47</td>\n",
              "      <td>31</td>\n",
              "      <td>78</td>\n",
              "      <td>90</td>\n",
              "      <td>70</td>\n",
              "      <td>33</td>\n",
              "      <td>1</td>\n",
              "    </tr>\n",
              "  </tbody>\n",
              "</table>\n",
              "<p>1000 rows × 11 columns</p>\n",
              "</div>"
            ],
            "text/plain": [
              "      0   1   2   3   4   5   6   7   8   9  cluster_number\n",
              "0    83  91  47  30  17   8   2  14  72  92               2\n",
              "1     6  72  67  55  57  50  26  26  59  33               0\n",
              "2    64  71   5  41  71  98  54  15  48  77               1\n",
              "3    99  37  56  84  61   7  44  71  93  63               1\n",
              "4     5   6  24  40  56  99  31  48  31  71               1\n",
              "..   ..  ..  ..  ..  ..  ..  ..  ..  ..  ..             ...\n",
              "995  25  28   8  40   9  25  22  86  54  12               2\n",
              "996   1  26  26  76  89  64  31  55  79  61               1\n",
              "997   5  17  10  56  87  98  37  51  92  90               1\n",
              "998  73  43  71  20  31  10  25  51  17  27               2\n",
              "999  85  59   1  65  47  31  78  90  70  33               1\n",
              "\n",
              "[1000 rows x 11 columns]"
            ]
          },
          "metadata": {
            "tags": []
          },
          "execution_count": 145
        }
      ]
    },
    {
      "cell_type": "code",
      "metadata": {
        "id": "RiWjOJ1MiRXU",
        "colab_type": "code",
        "colab": {
          "base_uri": "https://localhost:8080/",
          "height": 194
        },
        "outputId": "ef5da883-4c9e-44e7-e9e7-0dd9f6d5589f"
      },
      "source": [
        "score_dict"
      ],
      "execution_count": 146,
      "outputs": [
        {
          "output_type": "execute_result",
          "data": {
            "text/plain": [
              "{0: 1.176884728356753,\n",
              " 1: 1.1247686152005818,\n",
              " 2: 1.114960262160424,\n",
              " 3: 1.0427612882251636,\n",
              " 4: 0.8597635232155029,\n",
              " 5: 0.9810908747692898,\n",
              " 6: 0.8973971051477194,\n",
              " 7: 0.949291336238266,\n",
              " 8: 0.9246177413764968,\n",
              " 9: 0.9384745353198073}"
            ]
          },
          "metadata": {
            "tags": []
          },
          "execution_count": 146
        }
      ]
    },
    {
      "cell_type": "markdown",
      "metadata": {
        "id": "EAIvVLPsUCFy",
        "colab_type": "text"
      },
      "source": [
        "#### Approach for Q2 :\n",
        "1. First we have to find wether the given column is a categorical column or not  :<br>\n",
        "  For this my approach will be to calculate the ratio count of unique values to the total count and then compare with some threshold value(lets say 0.05) , if the ratio is less than threshould then it is most likely that the column is categorical . Or we can apply other checks like the column should contain string values.\n",
        "2.  Second thing is how we will do one-hot encoding for large no of unique values containing categorical column : <br>\n",
        "For this my approach will be to go through binning or grouping on the basis of target column.\n"
      ]
    }
  ]
}